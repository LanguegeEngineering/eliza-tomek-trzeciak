{
  "nbformat": 4,
  "nbformat_minor": 0,
  "metadata": {
    "colab": {
      "name": "eliza.ipynb",
      "provenance": []
    },
    "kernelspec": {
      "name": "python3",
      "display_name": "Python 3"
    }
  },
  "cells": [
    {
      "cell_type": "markdown",
      "metadata": {
        "id": "n6aPIsOy8GCu",
        "colab_type": "text"
      },
      "source": [
        "## ELIZA\n",
        "\n",
        "Copyright (C) 2019 Szymon Jessa"
      ]
    },
    {
      "cell_type": "markdown",
      "metadata": {
        "id": "sj_ou0TJ9oOk",
        "colab_type": "text"
      },
      "source": [
        "### Kod Elizy"
      ]
    },
    {
      "cell_type": "markdown",
      "metadata": {
        "id": "5bfTVo988BuT",
        "colab_type": "text"
      },
      "source": [
        "Importujemy biblioteki:"
      ]
    },
    {
      "cell_type": "code",
      "metadata": {
        "id": "xABK2eZz6nrb",
        "colab_type": "code",
        "colab": {}
      },
      "source": [
        "import doctest\n",
        "import re"
      ],
      "execution_count": 0,
      "outputs": []
    },
    {
      "cell_type": "markdown",
      "metadata": {
        "id": "ONj8dLoY8YSG",
        "colab_type": "text"
      },
      "source": [
        "Tworzymy zmienną globalną, która będzie zapisywała wypowiedzi podczas konwersacji. "
      ]
    },
    {
      "cell_type": "code",
      "metadata": {
        "id": "RAZOp20H8cra",
        "colab_type": "code",
        "colab": {}
      },
      "source": [
        "memstack = []"
      ],
      "execution_count": 0,
      "outputs": []
    },
    {
      "cell_type": "markdown",
      "metadata": {
        "id": "kGdrtTLy9FIP",
        "colab_type": "text"
      },
      "source": [
        "Funkcja odpowiadająca za przetworzenie wypowiedzi użytkownika i zaproponowanie odpowiedzi."
      ]
    },
    {
      "cell_type": "code",
      "metadata": {
        "id": "J-L7oM2m9FTX",
        "colab_type": "code",
        "colab": {}
      },
      "source": [
        "def get_keystack(user_input):\n",
        "    # scan all words in the utterance for keywords one-by-one\n",
        "    # and put tuples (keyword, rank) in the list\n",
        "    # ***CHALLENGE*** modify the code to handle UPPERCASE LETTERS and punctuations\n",
        "    keystack = []\n",
        "    for w in user_input.split():\n",
        "        if w in script:\n",
        "            keystack.append((w, script[w].get(\"rank\", 0)))\n",
        "\n",
        "    # sort keywords by rank, descending\n",
        "    keystack = sorted(keystack, key=lambda i: i[1])\n",
        "\n",
        "    # extract keywords from tuples\n",
        "    keystack = [w for w, r in keystack]\n",
        "\n",
        "    return keystack"
      ],
      "execution_count": 0,
      "outputs": []
    },
    {
      "cell_type": "markdown",
      "metadata": {
        "id": "WnJFrXIo9Fei",
        "colab_type": "text"
      },
      "source": [
        "Funkcja \"zapamiętująca\" słowa kluczowe pojawiające się we wcześniejszej rozmowie:"
      ]
    },
    {
      "cell_type": "code",
      "metadata": {
        "id": "zUYNJwpk9Fp3",
        "colab_type": "code",
        "colab": {}
      },
      "source": [
        "def memorize_user_input(user_input, user_input_trans):\n",
        "    # scan all words for memory keywords\n",
        "    memory_keywords = []\n",
        "    for w in user_input.split():\n",
        "        if w in script_memory:\n",
        "            memory_keywords.append(w)\n",
        "    memory_keywords = list(set(memory_keywords))\n",
        "\n",
        "    for k in memory_keywords:\n",
        "        # use first reassembly rule\n",
        "        # ***CHALLENGE*** modify the code to use more than one reassembly rule!\n",
        "        memresp = re.sub(script_memory[k][\"decomposition\"], script_memory[k][\"reassembly\"][0], user_input_trans)\n",
        "        memstack.append(memresp)\n",
        "\n"
      ],
      "execution_count": 0,
      "outputs": []
    },
    {
      "cell_type": "markdown",
      "metadata": {
        "id": "qxiaTPbI9Fzm",
        "colab_type": "text"
      },
      "source": [
        "Funkcja wybierająca odpowiedź Elizy:"
      ]
    },
    {
      "cell_type": "code",
      "metadata": {
        "id": "wHf9h4qw9F9G",
        "colab_type": "code",
        "colab": {}
      },
      "source": [
        "def process(user_input):\n",
        "    \"\"\" (str) -> str\n",
        "    Return Eliza's answer for given input\n",
        "    Return responses associated with the matched keyword\n",
        "    Return responses for \"none\" keyword or use memory if other keywords not found\n",
        "    \"\"\"\n",
        "\n",
        "    # extract keywords\n",
        "    keystack = get_keystack(user_input)\n",
        "\n",
        "    # transform user input using substitutions\n",
        "    user_input_trans = \" \".join(map(lambda w: substitutions.get(w, w), user_input.split()))\n",
        "\n",
        "    # find a response based on the keywords\n",
        "    resp = \"\"\n",
        "    if keystack:\n",
        "        # get response associated with the highest ranked keyword\n",
        "        kw = keystack[-1] # get top ranked keyword\n",
        "        rule = script[kw] # get script rule (decomposition & reassembly) for this keyword\n",
        "        # check if the decomposition rule cane be applied for the utterance \n",
        "        if re.search(rule[\"decomposition\"], user_input_trans):\n",
        "            # if yes, generate response using the first reassembly rule\n",
        "            trans = rule[\"reassembly\"].pop(0) # pop first reassembly from list\n",
        "            rule[\"reassembly\"].append(trans) # append the reassembly rule to the end of the list\n",
        "            resp = re.sub(rule[\"decomposition\"], trans, user_input_trans) # generate response\n",
        "\n",
        "    # if none keywords or rules were found, try to use memory\n",
        "    if resp == \"\":\n",
        "        if memstack:\n",
        "            resp = memstack.pop(0)\n",
        "        # if there are no responses in memory,\n",
        "        # use default responses associated with special keyword \"none\"\n",
        "        else:\n",
        "            # ***CHALLENGE*** modify the code to support more than one default answer (reassembly rule)\n",
        "            # ***CHALLENGE*** ensure the code won't break if \"none\" key doesn't exist\n",
        "            resp = script[\"none\"][\"reassembly\"][0]\n",
        "\n",
        "    # if possible, generate new responses to be stored in memory for later\n",
        "    memorize_user_input(user_input, user_input_trans)\n",
        "\n",
        "    return str(resp)"
      ],
      "execution_count": 0,
      "outputs": []
    },
    {
      "cell_type": "markdown",
      "metadata": {
        "id": "MfQyELfU9GFn",
        "colab_type": "text"
      },
      "source": [
        "Funkcja do uruchomiania czatu:"
      ]
    },
    {
      "cell_type": "code",
      "metadata": {
        "id": "EpohMxxZ9GPO",
        "colab_type": "code",
        "colab": {}
      },
      "source": [
        "def chat():\n",
        "    \"\"\" () -> None\n",
        "    Allows interaction with Eliza in a loop:\n",
        "    - read input from console\n",
        "    - get Eliza's response using process function\n",
        "    - write Eliza's response to console\n",
        "    - exit if input string length is 0\n",
        "    \"\"\"\n",
        "    \n",
        "    print(\"<hit enter with no input to exit>\")\n",
        "    print(\"Eliza: How do you do. Please tell me your problem\")\n",
        "    while True:\n",
        "        utt = input(\"Student: \")\n",
        "        if not utt:\n",
        "            break\n",
        "\n",
        "        resp = process(utt)\n",
        "        print(\"Eliza: %s\" % resp)\n",
        "        print(memstack)"
      ],
      "execution_count": 0,
      "outputs": []
    },
    {
      "cell_type": "markdown",
      "metadata": {
        "id": "vGWpeS0_9usY",
        "colab_type": "text"
      },
      "source": [
        "### Testy\n",
        "\n",
        "Tutaj puszczamy testy dla konkretnych zapytań dla Elizy. Doc testy puszczają dany kod oznaczony ```>>>``` i oczekują odpowiedzi zgodnej z tym, co jest poniżej. Oto przykład:"
      ]
    },
    {
      "cell_type": "code",
      "metadata": {
        "id": "ZpMtxLWB-OsD",
        "colab_type": "code",
        "colab": {}
      },
      "source": [
        "def task0_true():\n",
        "  \"\"\"\n",
        "  >>> 2+2\n",
        "  4\n",
        "  \"\"\""
      ],
      "execution_count": 0,
      "outputs": []
    },
    {
      "cell_type": "code",
      "metadata": {
        "id": "qR7MMVZc-gJu",
        "colab_type": "code",
        "colab": {}
      },
      "source": [
        "def task0_false():\n",
        "  \"\"\"\n",
        "  >>> 2+2\n",
        "  5\n",
        "  \"\"\""
      ],
      "execution_count": 0,
      "outputs": []
    },
    {
      "cell_type": "code",
      "metadata": {
        "id": "HRJXX7Zs-l1m",
        "colab_type": "code",
        "colab": {
          "base_uri": "https://localhost:8080/",
          "height": 119
        },
        "outputId": "242f1540-499b-4cf2-8118-91820c452b86"
      },
      "source": [
        "doctest.run_docstring_examples(task0_true, globals(), name=\"task0\", verbose=True)"
      ],
      "execution_count": 9,
      "outputs": [
        {
          "output_type": "stream",
          "text": [
            "Finding tests in task0\n",
            "Trying:\n",
            "    2+2\n",
            "Expecting:\n",
            "    4\n",
            "ok\n"
          ],
          "name": "stdout"
        }
      ]
    },
    {
      "cell_type": "code",
      "metadata": {
        "id": "jhYsBBcX_BAD",
        "colab_type": "code",
        "colab": {
          "base_uri": "https://localhost:8080/",
          "height": 238
        },
        "outputId": "4979556a-c08f-46f3-8d02-84c24d991faf"
      },
      "source": [
        "doctest.run_docstring_examples(task0_false, globals(), name=\"task0\", verbose=True)"
      ],
      "execution_count": 10,
      "outputs": [
        {
          "output_type": "stream",
          "text": [
            "Finding tests in task0\n",
            "Trying:\n",
            "    2+2\n",
            "Expecting:\n",
            "    5\n",
            "**********************************************************************\n",
            "File \"__main__\", line 3, in task0\n",
            "Failed example:\n",
            "    2+2\n",
            "Expected:\n",
            "    5\n",
            "Got:\n",
            "    4\n"
          ],
          "name": "stdout"
        }
      ]
    },
    {
      "cell_type": "code",
      "metadata": {
        "id": "O3_YeY069u3N",
        "colab_type": "code",
        "colab": {}
      },
      "source": [
        "def task1():\n",
        "    \"\"\"\n",
        "    >>> process(\"I have no problems\")\n",
        "    \"Are you saying 'no' just to be negative?\"\n",
        "    >>> process(\"no\")\n",
        "    'You are being a bit negative'\n",
        "    >>> process(\"no\")\n",
        "    'Why not'\n",
        "    \"\"\"\n",
        "    pass"
      ],
      "execution_count": 0,
      "outputs": []
    },
    {
      "cell_type": "code",
      "metadata": {
        "id": "uefTKFoD9vIm",
        "colab_type": "code",
        "colab": {}
      },
      "source": [
        "def task2():\n",
        "    \"\"\"\n",
        "    >>> process(\"hmm\")\n",
        "    'I am not sure I understand you fully'\n",
        "    \"\"\"\n",
        "    pass"
      ],
      "execution_count": 0,
      "outputs": []
    },
    {
      "cell_type": "code",
      "metadata": {
        "id": "j9t7hO2q9vVV",
        "colab_type": "code",
        "colab": {}
      },
      "source": [
        "def task3():\n",
        "    \"\"\"\n",
        "    >>> process(\"no I am not a negative person\")\n",
        "    'Is it because you are not a negative person that you came to me?'\n",
        "    >>> process(\"no\")\n",
        "    'You are being a bit negative'\n",
        "    \"\"\"\n",
        "    pass"
      ],
      "execution_count": 0,
      "outputs": []
    },
    {
      "cell_type": "code",
      "metadata": {
        "id": "xCDYXNlV94rR",
        "colab_type": "code",
        "colab": {}
      },
      "source": [
        "def task4():\n",
        "    \"\"\"\n",
        "    >>> process(\"you are repeating yourself\")\n",
        "    'What makes you think I am repeating myself?'\n",
        "    >>> process(\"you are kidding me\")\n",
        "    'Does it please you to believe I am kidding you?'\n",
        "    \"\"\"\n",
        "    pass"
      ],
      "execution_count": 0,
      "outputs": []
    },
    {
      "cell_type": "code",
      "metadata": {
        "id": "17e6WdpT943T",
        "colab_type": "code",
        "colab": {}
      },
      "source": [
        "def task5():\n",
        "    \"\"\"\n",
        "    >>> process(\"my wife said I am optimistic\")\n",
        "    'Tell me more about your family'\n",
        "    >>> process(\"now I am sad\")\n",
        "    'Is it because you are sad that you came to me?'\n",
        "    >>> process(\"maybe\")\n",
        "    'But your wife said you are optimistic?'\n",
        "    \"\"\"\n",
        "    pass"
      ],
      "execution_count": 0,
      "outputs": []
    },
    {
      "cell_type": "markdown",
      "metadata": {
        "id": "TKW_pA62949L",
        "colab_type": "text"
      },
      "source": [
        "### Skrypt rozmowy\n",
        "\n",
        "Tutaj znajduje się skrypt rozmowy. W słowniku 'decomposition' to szukane wyrażenia regularne, natomiast 'reassembly' to odpowiedź Elizy. "
      ]
    },
    {
      "cell_type": "code",
      "metadata": {
        "id": "xZI2blNf8Uqq",
        "colab_type": "code",
        "colab": {}
      },
      "source": [
        "script = {\n",
        "    \"I\": {\"decomposition\": r\".*(I am)(.*)\",\n",
        "           \"reassembly\": [r'Is it because you are\\2 that you came to me?']},\n",
        "    \"no\": {\"decomposition\": r\".*\",\n",
        "           \"reassembly\": [\"Are you saying 'no' just to be negative?\", 'You are being a bit negative', 'Why not']},\n",
        "    \"yes\": {\"decomposition\": r\".*\",\n",
        "            \"reassembly\": [\"Tell me more about it\"]   },\n",
        "    \"none\": {\"decomposition\": r\".*\",\n",
        "            \"reassembly\": ['I am not sure I understand you fully']},\n",
        "    \"you\": {\"decomposition\": r\".*are(.*)\",\n",
        "            \"reassembly\": [r\"What makes you think I am\\1?\", r\"Does it please you to believe I am\\1?\"]},\n",
        "    \"wife\": {\"decomposition\": r\".*\",\n",
        "             \"reassembly\": [\"Tell me more about your family\"]}\n",
        "          }"
      ],
      "execution_count": 0,
      "outputs": []
    },
    {
      "cell_type": "markdown",
      "metadata": {
        "id": "Ifz8OTlE96zA",
        "colab_type": "text"
      },
      "source": [
        "Zastępstwa - tutaj możemy zmieniać pewne wyrażenia, żeby płynniej prowadzić rozmowę."
      ]
    },
    {
      "cell_type": "code",
      "metadata": {
        "id": "aua9w4Ea97Dn",
        "colab_type": "code",
        "colab": {}
      },
      "source": [
        "substitutions = {\"yourself\":\"myself\",\"me\":\"you\"}"
      ],
      "execution_count": 0,
      "outputs": []
    },
    {
      "cell_type": "markdown",
      "metadata": {
        "id": "L-4lZpCF97L6",
        "colab_type": "text"
      },
      "source": [
        "Script memory - tutaj tworzymy skrypt rozmowy (j.w.) ale wykorzystując zapamiętane wcześniej słowa."
      ]
    },
    {
      "cell_type": "code",
      "metadata": {
        "id": "qqvs_HEl97WF",
        "colab_type": "code",
        "colab": {}
      },
      "source": [
        "script_memory = {}"
      ],
      "execution_count": 0,
      "outputs": []
    },
    {
      "cell_type": "markdown",
      "metadata": {
        "id": "hdHZf7FE-GHL",
        "colab_type": "text"
      },
      "source": [
        "W przypadku niektórych testów poniżej mamy do czynienia z losowością, więc czasem trzeba powtórzyć wykonanie go, aby wynik był właściwy."
      ]
    },
    {
      "cell_type": "code",
      "metadata": {
        "id": "wn9vlY7W-GQY",
        "colab_type": "code",
        "colab": {
          "base_uri": "https://localhost:8080/",
          "height": 289
        },
        "outputId": "42412fff-393b-4491-c9dc-4abe2d9593b3"
      },
      "source": [
        "doctest.run_docstring_examples(task1, globals(), name=\"task1\", verbose=True)"
      ],
      "execution_count": 32,
      "outputs": [
        {
          "output_type": "stream",
          "text": [
            "Finding tests in task1\n",
            "Trying:\n",
            "    process(\"I have no problems\")\n",
            "Expecting:\n",
            "    \"Are you saying 'no' just to be negative?\"\n",
            "ok\n",
            "Trying:\n",
            "    process(\"no\")\n",
            "Expecting:\n",
            "    'You are being a bit negative'\n",
            "ok\n",
            "Trying:\n",
            "    process(\"no\")\n",
            "Expecting:\n",
            "    'Why not'\n",
            "ok\n"
          ],
          "name": "stdout"
        }
      ]
    },
    {
      "cell_type": "code",
      "metadata": {
        "id": "brEFxEODftlt",
        "colab_type": "code",
        "colab": {
          "base_uri": "https://localhost:8080/",
          "height": 119
        },
        "outputId": "bccb778e-7e7e-45cf-c631-b510757945d1"
      },
      "source": [
        "doctest.run_docstring_examples(task2, globals(), name=\"task2\", verbose=True)\n"
      ],
      "execution_count": 37,
      "outputs": [
        {
          "output_type": "stream",
          "text": [
            "Finding tests in task2\n",
            "Trying:\n",
            "    process(\"hmm\")\n",
            "Expecting:\n",
            "    'I am not sure I understand you fully'\n",
            "ok\n"
          ],
          "name": "stdout"
        }
      ]
    },
    {
      "cell_type": "code",
      "metadata": {
        "id": "zm48COwCftyU",
        "colab_type": "code",
        "colab": {
          "base_uri": "https://localhost:8080/",
          "height": 204
        },
        "outputId": "bc3a4074-641c-46fc-86d1-db7c6e9f11c7"
      },
      "source": [
        "doctest.run_docstring_examples(task3, globals(), name=\"task3\", verbose=True)\n"
      ],
      "execution_count": 56,
      "outputs": [
        {
          "output_type": "stream",
          "text": [
            "Finding tests in task3\n",
            "Trying:\n",
            "    process(\"no, I am not a negative person\")\n",
            "Expecting:\n",
            "    'Is it because you are not a negative person that you came to me?'\n",
            "ok\n",
            "Trying:\n",
            "    process(\"no\")\n",
            "Expecting:\n",
            "    'You are being a bit negative'\n",
            "ok\n"
          ],
          "name": "stdout"
        }
      ]
    },
    {
      "cell_type": "code",
      "metadata": {
        "id": "rzZ428QQft79",
        "colab_type": "code",
        "colab": {
          "base_uri": "https://localhost:8080/",
          "height": 204
        },
        "outputId": "03b9ee07-5d11-4b74-b52b-a6e5c55b3b18"
      },
      "source": [
        "doctest.run_docstring_examples(task4, globals(), name=\"task4\", verbose=True)\n"
      ],
      "execution_count": 75,
      "outputs": [
        {
          "output_type": "stream",
          "text": [
            "Finding tests in task4\n",
            "Trying:\n",
            "    process(\"you are repeating yourself\")\n",
            "Expecting:\n",
            "    'What makes you think I am repeating myself?'\n",
            "ok\n",
            "Trying:\n",
            "    process(\"you are kidding me\")\n",
            "Expecting:\n",
            "    'Does it please you to believe I am kidding you?'\n",
            "ok\n"
          ],
          "name": "stdout"
        }
      ]
    },
    {
      "cell_type": "code",
      "metadata": {
        "id": "RJOENtPGfuNB",
        "colab_type": "code",
        "colab": {}
      },
      "source": [
        "doctest.run_docstring_examples(task4, globals(), name=\"task5\", verbose=True)"
      ],
      "execution_count": 0,
      "outputs": []
    },
    {
      "cell_type": "markdown",
      "metadata": {
        "id": "z5PVFJx1Eiei",
        "colab_type": "text"
      },
      "source": [
        "Tutaj można odpalić rozmowę z Elizą."
      ]
    },
    {
      "cell_type": "code",
      "metadata": {
        "id": "6PgbPkck-GeF",
        "colab_type": "code",
        "colab": {
          "base_uri": "https://localhost:8080/",
          "height": 663
        },
        "outputId": "35878ed0-a321-48e5-97c2-f3b98b545abe"
      },
      "source": [
        "chat()"
      ],
      "execution_count": 83,
      "outputs": [
        {
          "output_type": "stream",
          "text": [
            "<hit enter with no input to exit>\n",
            "Eliza: How do you do. Please tell me your problem\n",
            "Student: no\n",
            "Eliza: You are being a bit negative\n",
            "[]\n",
            "Student: yes\n",
            "Eliza: Tell me more about it\n",
            "[]\n"
          ],
          "name": "stdout"
        },
        {
          "output_type": "error",
          "ename": "KeyboardInterrupt",
          "evalue": "ignored",
          "traceback": [
            "\u001b[0;31m---------------------------------------------------------------------------\u001b[0m",
            "\u001b[0;31mKeyboardInterrupt\u001b[0m                         Traceback (most recent call last)",
            "\u001b[0;32m/usr/local/lib/python3.6/dist-packages/ipykernel/kernelbase.py\u001b[0m in \u001b[0;36m_input_request\u001b[0;34m(self, prompt, ident, parent, password)\u001b[0m\n\u001b[1;32m    729\u001b[0m             \u001b[0;32mtry\u001b[0m\u001b[0;34m:\u001b[0m\u001b[0;34m\u001b[0m\u001b[0;34m\u001b[0m\u001b[0m\n\u001b[0;32m--> 730\u001b[0;31m                 \u001b[0mident\u001b[0m\u001b[0;34m,\u001b[0m \u001b[0mreply\u001b[0m \u001b[0;34m=\u001b[0m \u001b[0mself\u001b[0m\u001b[0;34m.\u001b[0m\u001b[0msession\u001b[0m\u001b[0;34m.\u001b[0m\u001b[0mrecv\u001b[0m\u001b[0;34m(\u001b[0m\u001b[0mself\u001b[0m\u001b[0;34m.\u001b[0m\u001b[0mstdin_socket\u001b[0m\u001b[0;34m,\u001b[0m \u001b[0;36m0\u001b[0m\u001b[0;34m)\u001b[0m\u001b[0;34m\u001b[0m\u001b[0;34m\u001b[0m\u001b[0m\n\u001b[0m\u001b[1;32m    731\u001b[0m             \u001b[0;32mexcept\u001b[0m \u001b[0mException\u001b[0m\u001b[0;34m:\u001b[0m\u001b[0;34m\u001b[0m\u001b[0;34m\u001b[0m\u001b[0m\n",
            "\u001b[0;32m/usr/local/lib/python3.6/dist-packages/jupyter_client/session.py\u001b[0m in \u001b[0;36mrecv\u001b[0;34m(self, socket, mode, content, copy)\u001b[0m\n\u001b[1;32m    802\u001b[0m         \u001b[0;32mtry\u001b[0m\u001b[0;34m:\u001b[0m\u001b[0;34m\u001b[0m\u001b[0;34m\u001b[0m\u001b[0m\n\u001b[0;32m--> 803\u001b[0;31m             \u001b[0mmsg_list\u001b[0m \u001b[0;34m=\u001b[0m \u001b[0msocket\u001b[0m\u001b[0;34m.\u001b[0m\u001b[0mrecv_multipart\u001b[0m\u001b[0;34m(\u001b[0m\u001b[0mmode\u001b[0m\u001b[0;34m,\u001b[0m \u001b[0mcopy\u001b[0m\u001b[0;34m=\u001b[0m\u001b[0mcopy\u001b[0m\u001b[0;34m)\u001b[0m\u001b[0;34m\u001b[0m\u001b[0;34m\u001b[0m\u001b[0m\n\u001b[0m\u001b[1;32m    804\u001b[0m         \u001b[0;32mexcept\u001b[0m \u001b[0mzmq\u001b[0m\u001b[0;34m.\u001b[0m\u001b[0mZMQError\u001b[0m \u001b[0;32mas\u001b[0m \u001b[0me\u001b[0m\u001b[0;34m:\u001b[0m\u001b[0;34m\u001b[0m\u001b[0;34m\u001b[0m\u001b[0m\n",
            "\u001b[0;32m/usr/local/lib/python3.6/dist-packages/zmq/sugar/socket.py\u001b[0m in \u001b[0;36mrecv_multipart\u001b[0;34m(self, flags, copy, track)\u001b[0m\n\u001b[1;32m    465\u001b[0m         \"\"\"\n\u001b[0;32m--> 466\u001b[0;31m         \u001b[0mparts\u001b[0m \u001b[0;34m=\u001b[0m \u001b[0;34m[\u001b[0m\u001b[0mself\u001b[0m\u001b[0;34m.\u001b[0m\u001b[0mrecv\u001b[0m\u001b[0;34m(\u001b[0m\u001b[0mflags\u001b[0m\u001b[0;34m,\u001b[0m \u001b[0mcopy\u001b[0m\u001b[0;34m=\u001b[0m\u001b[0mcopy\u001b[0m\u001b[0;34m,\u001b[0m \u001b[0mtrack\u001b[0m\u001b[0;34m=\u001b[0m\u001b[0mtrack\u001b[0m\u001b[0;34m)\u001b[0m\u001b[0;34m]\u001b[0m\u001b[0;34m\u001b[0m\u001b[0;34m\u001b[0m\u001b[0m\n\u001b[0m\u001b[1;32m    467\u001b[0m         \u001b[0;31m# have first part already, only loop while more to receive\u001b[0m\u001b[0;34m\u001b[0m\u001b[0;34m\u001b[0m\u001b[0;34m\u001b[0m\u001b[0m\n",
            "\u001b[0;32mzmq/backend/cython/socket.pyx\u001b[0m in \u001b[0;36mzmq.backend.cython.socket.Socket.recv\u001b[0;34m()\u001b[0m\n",
            "\u001b[0;32mzmq/backend/cython/socket.pyx\u001b[0m in \u001b[0;36mzmq.backend.cython.socket.Socket.recv\u001b[0;34m()\u001b[0m\n",
            "\u001b[0;32mzmq/backend/cython/socket.pyx\u001b[0m in \u001b[0;36mzmq.backend.cython.socket._recv_copy\u001b[0;34m()\u001b[0m\n",
            "\u001b[0;32m/usr/local/lib/python3.6/dist-packages/zmq/backend/cython/checkrc.pxd\u001b[0m in \u001b[0;36mzmq.backend.cython.checkrc._check_rc\u001b[0;34m()\u001b[0m\n",
            "\u001b[0;31mKeyboardInterrupt\u001b[0m: ",
            "\nDuring handling of the above exception, another exception occurred:\n",
            "\u001b[0;31mKeyboardInterrupt\u001b[0m                         Traceback (most recent call last)",
            "\u001b[0;32m<ipython-input-83-e57ee30c65ef>\u001b[0m in \u001b[0;36m<module>\u001b[0;34m()\u001b[0m\n\u001b[0;32m----> 1\u001b[0;31m \u001b[0mchat\u001b[0m\u001b[0;34m(\u001b[0m\u001b[0;34m)\u001b[0m\u001b[0;34m\u001b[0m\u001b[0;34m\u001b[0m\u001b[0m\n\u001b[0m",
            "\u001b[0;32m<ipython-input-82-bdf6173c11e2>\u001b[0m in \u001b[0;36mchat\u001b[0;34m()\u001b[0m\n\u001b[1;32m     11\u001b[0m     \u001b[0mprint\u001b[0m\u001b[0;34m(\u001b[0m\u001b[0;34m\"Eliza: How do you do. Please tell me your problem\"\u001b[0m\u001b[0;34m)\u001b[0m\u001b[0;34m\u001b[0m\u001b[0;34m\u001b[0m\u001b[0m\n\u001b[1;32m     12\u001b[0m     \u001b[0;32mwhile\u001b[0m \u001b[0;32mTrue\u001b[0m\u001b[0;34m:\u001b[0m\u001b[0;34m\u001b[0m\u001b[0;34m\u001b[0m\u001b[0m\n\u001b[0;32m---> 13\u001b[0;31m         \u001b[0mutt\u001b[0m \u001b[0;34m=\u001b[0m \u001b[0minput\u001b[0m\u001b[0;34m(\u001b[0m\u001b[0;34m\"Student: \"\u001b[0m\u001b[0;34m)\u001b[0m\u001b[0;34m\u001b[0m\u001b[0;34m\u001b[0m\u001b[0m\n\u001b[0m\u001b[1;32m     14\u001b[0m         \u001b[0;32mif\u001b[0m \u001b[0;32mnot\u001b[0m \u001b[0mutt\u001b[0m\u001b[0;34m:\u001b[0m\u001b[0;34m\u001b[0m\u001b[0;34m\u001b[0m\u001b[0m\n\u001b[1;32m     15\u001b[0m             \u001b[0;32mbreak\u001b[0m\u001b[0;34m\u001b[0m\u001b[0;34m\u001b[0m\u001b[0m\n",
            "\u001b[0;32m/usr/local/lib/python3.6/dist-packages/ipykernel/kernelbase.py\u001b[0m in \u001b[0;36mraw_input\u001b[0;34m(self, prompt)\u001b[0m\n\u001b[1;32m    703\u001b[0m             \u001b[0mself\u001b[0m\u001b[0;34m.\u001b[0m\u001b[0m_parent_ident\u001b[0m\u001b[0;34m,\u001b[0m\u001b[0;34m\u001b[0m\u001b[0;34m\u001b[0m\u001b[0m\n\u001b[1;32m    704\u001b[0m             \u001b[0mself\u001b[0m\u001b[0;34m.\u001b[0m\u001b[0m_parent_header\u001b[0m\u001b[0;34m,\u001b[0m\u001b[0;34m\u001b[0m\u001b[0;34m\u001b[0m\u001b[0m\n\u001b[0;32m--> 705\u001b[0;31m             \u001b[0mpassword\u001b[0m\u001b[0;34m=\u001b[0m\u001b[0;32mFalse\u001b[0m\u001b[0;34m,\u001b[0m\u001b[0;34m\u001b[0m\u001b[0;34m\u001b[0m\u001b[0m\n\u001b[0m\u001b[1;32m    706\u001b[0m         )\n\u001b[1;32m    707\u001b[0m \u001b[0;34m\u001b[0m\u001b[0m\n",
            "\u001b[0;32m/usr/local/lib/python3.6/dist-packages/ipykernel/kernelbase.py\u001b[0m in \u001b[0;36m_input_request\u001b[0;34m(self, prompt, ident, parent, password)\u001b[0m\n\u001b[1;32m    733\u001b[0m             \u001b[0;32mexcept\u001b[0m \u001b[0mKeyboardInterrupt\u001b[0m\u001b[0;34m:\u001b[0m\u001b[0;34m\u001b[0m\u001b[0;34m\u001b[0m\u001b[0m\n\u001b[1;32m    734\u001b[0m                 \u001b[0;31m# re-raise KeyboardInterrupt, to truncate traceback\u001b[0m\u001b[0;34m\u001b[0m\u001b[0;34m\u001b[0m\u001b[0;34m\u001b[0m\u001b[0m\n\u001b[0;32m--> 735\u001b[0;31m                 \u001b[0;32mraise\u001b[0m \u001b[0mKeyboardInterrupt\u001b[0m\u001b[0;34m\u001b[0m\u001b[0;34m\u001b[0m\u001b[0m\n\u001b[0m\u001b[1;32m    736\u001b[0m             \u001b[0;32melse\u001b[0m\u001b[0;34m:\u001b[0m\u001b[0;34m\u001b[0m\u001b[0;34m\u001b[0m\u001b[0m\n\u001b[1;32m    737\u001b[0m                 \u001b[0;32mbreak\u001b[0m\u001b[0;34m\u001b[0m\u001b[0;34m\u001b[0m\u001b[0m\n",
            "\u001b[0;31mKeyboardInterrupt\u001b[0m: "
          ]
        }
      ]
    },
    {
      "cell_type": "code",
      "metadata": {
        "id": "L6xdTcqMEmTu",
        "colab_type": "code",
        "colab": {
          "base_uri": "https://localhost:8080/",
          "height": 34
        },
        "outputId": "3436d516-2a2c-497e-db9f-047414b01d18"
      },
      "source": [
        "memstack"
      ],
      "execution_count": 73,
      "outputs": [
        {
          "output_type": "execute_result",
          "data": {
            "text/plain": [
              "[]"
            ]
          },
          "metadata": {
            "tags": []
          },
          "execution_count": 73
        }
      ]
    }
  ]
}